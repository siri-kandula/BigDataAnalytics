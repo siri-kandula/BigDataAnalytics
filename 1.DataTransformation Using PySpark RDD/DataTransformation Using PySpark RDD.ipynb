{
 "cells": [
  {
   "cell_type": "code",
   "execution_count": 1,
   "id": "5d763ae3-19a4-452d-b637-a753d2877cf8",
   "metadata": {},
   "outputs": [
    {
     "data": {
      "text/html": [
       "\n",
       "        <div>\n",
       "            <p><b>SparkContext</b></p>\n",
       "\n",
       "            <p><a href=\"http://SIRICHANDANA:4040\">Spark UI</a></p>\n",
       "\n",
       "            <dl>\n",
       "              <dt>Version</dt>\n",
       "                <dd><code>v4.0.1</code></dd>\n",
       "              <dt>Master</dt>\n",
       "                <dd><code>local[*]</code></dd>\n",
       "              <dt>AppName</dt>\n",
       "                <dd><code>PySparkShell</code></dd>\n",
       "            </dl>\n",
       "        </div>\n",
       "        "
      ],
      "text/plain": [
       "<SparkContext master=local[*] appName=PySparkShell>"
      ]
     },
     "execution_count": 1,
     "metadata": {},
     "output_type": "execute_result"
    }
   ],
   "source": [
    "sc"
   ]
  },
  {
   "cell_type": "code",
   "execution_count": 2,
   "id": "020b516c-d093-42e3-a2d3-ef365453ca65",
   "metadata": {},
   "outputs": [],
   "source": [
    "import random"
   ]
  },
  {
   "cell_type": "code",
   "execution_count": 3,
   "id": "db01e06f-ef5b-472d-825d-5df4647d5a54",
   "metadata": {},
   "outputs": [
    {
     "name": "stdout",
     "output_type": "stream",
     "text": [
      "Original List:\n",
      "[859, 614, 906, 386, 235, 83, 263, 797, 233, 22, 289, 244, 327, 330, 314, 559, 290, 687, 468, 465, 741, 253, 770, 276, 883, 234, 401, 111, 594, 532, 124, 713, 778, 478, 429, 909, 509, 997, 501, 677, 324, 141, 472, 549, 277, 322, 748, 473, 744, 299, 172, 888, 422, 646, 131, 439, 636, 218, 888, 718, 649, 592, 840, 513, 237, 248, 297, 352, 108, 385, 852, 507, 905, 950, 900, 713, 562, 710, 85, 970, 261, 889, 881, 19, 866, 797, 362, 154, 904, 421, 738, 222, 954, 171, 991, 512, 646, 705, 668, 737]\n"
     ]
    }
   ],
   "source": [
    "random_numbers = [random.randint(1, 1000) for _ in range(100)]\n",
    "print(\"Original List:\")\n",
    "print(random_numbers)"
   ]
  },
  {
   "cell_type": "code",
   "execution_count": 4,
   "id": "123784d7-c9d3-4b8c-9d48-4f5938277c81",
   "metadata": {},
   "outputs": [],
   "source": [
    "numbers_rdd = sc.parallelize(random_numbers)"
   ]
  },
  {
   "cell_type": "code",
   "execution_count": 5,
   "id": "b4cdc8de-98a4-4177-9a45-a4e60b7d7f43",
   "metadata": {},
   "outputs": [],
   "source": [
    "even_numbers_rdd = numbers_rdd.filter(lambda x: x % 2 == 0)"
   ]
  },
  {
   "cell_type": "code",
   "execution_count": 6,
   "id": "0d6725a8-aae7-4938-81f1-0a622172676d",
   "metadata": {},
   "outputs": [
    {
     "name": "stdout",
     "output_type": "stream",
     "text": [
      "\n",
      "Even Numbers:\n",
      "[614, 906, 386, 22, 244, 330, 314, 290, 468, 770, 276, 234, 594, 532, 124, 778, 478, 324, 472, 322, 748, 744, 172, 888, 422, 646, 636, 218, 888, 718, 592, 840, 248, 352, 108, 852, 950, 900, 562, 710, 970, 866, 362, 154, 904, 738, 222, 954, 512, 646, 668]\n"
     ]
    }
   ],
   "source": [
    "even_numbers = even_numbers_rdd.collect()\n",
    "print(\"\\nEven Numbers:\")\n",
    "print(even_numbers)"
   ]
  },
  {
   "cell_type": "code",
   "execution_count": null,
   "id": "c35294e4-aa00-4ab3-a77d-5d519f8d2942",
   "metadata": {},
   "outputs": [],
   "source": []
  }
 ],
 "metadata": {
  "kernelspec": {
   "display_name": "Python 3 (ipykernel)",
   "language": "python",
   "name": "python3"
  },
  "language_info": {
   "codemirror_mode": {
    "name": "ipython",
    "version": 3
   },
   "file_extension": ".py",
   "mimetype": "text/x-python",
   "name": "python",
   "nbconvert_exporter": "python",
   "pygments_lexer": "ipython3",
   "version": "3.9.13"
  }
 },
 "nbformat": 4,
 "nbformat_minor": 5
}
